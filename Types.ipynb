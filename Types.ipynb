{
 "cells": [
  {
   "cell_type": "markdown",
   "id": "7eef1d63-f92f-4de2-83a9-a545f547009b",
   "metadata": {},
   "source": [
    "### Type Constants\n",
    "#### *Fairy type is not included, as it was introduced after gen5 and is therefore beyond the scope of this project\n",
    "#### *Some type advantages/disadvantages slighlty change in later generations (e.g. steel type versus dark/ghost), however these changes are beyond the scope of this project and are thus not reflected"
   ]
  },
  {
   "cell_type": "code",
   "execution_count": 2,
   "id": "40cf6c04-928f-4df7-89bb-ed86d02dee3b",
   "metadata": {},
   "outputs": [],
   "source": [
    "types = ['bug','dark','dragon','electric','fighting','fire','flying','ghost','grass','ground','ice','normal','poison','psychic','rock','water','steel']\n",
    "for type in types:\n",
    "    globals()[f\"{type}_type\"] = {}\n",
    "# For each type, both offensive and defensive attributes stored in a dictionary\n",
    "bug_type['Super Effective'] = ['psychic', 'dark', 'grass']\n",
    "bug_type['Not Very Effective'] = ['fire', 'flying', 'ghost', 'fighting', 'poison', 'steel']\n",
    "bug_type['No Effect'] = []\n",
    "bug_type['Weak To'] = ['fire', 'flying', 'rock']\n",
    "bug_type['Resists'] = ['grass', 'fighting', 'ground']\n",
    "bug_type['Immune To'] = []\n",
    "dark_type['Super Effective'] = ['psychic', 'ghost']\n",
    "dark_type['Not Very Effective'] = ['fighting', 'dark', 'steel']\n",
    "dark_type['No Effect'] = []\n",
    "dark_type['Weak To'] = ['fighting', 'bug']\n",
    "dark_type['Resists'] = ['dark', 'ghost']\n",
    "dark_type['Immune To'] = ['psychic']\n",
    "dragon_type['Super Effective'] = ['dragon']\n",
    "dragon_type['Not Very Effective'] = ['steel']\n",
    "dragon_type['No Effect'] = []\n",
    "dragon_type['Weak To'] = ['dragon', 'ice']\n",
    "dragon_type['Resists'] = ['water', 'fire', 'grass', 'electric']\n",
    "dragon_type['Immune To'] = []\n",
    "electric_type['Super Effective'] = ['water', 'flying']\n",
    "electric_type['Not Very Effective'] = ['dragon', 'grass', 'electric']\n",
    "electric_type['No Effect'] = ['ground']\n",
    "electric_type['Weak To'] = ['ground']\n",
    "electric_type['Resists'] = ['flying', 'electric', 'steel']\n",
    "electric_type['Immune To'] = []\n",
    "fighting_type['Super Effective'] = ['normal', 'dark', 'steel', 'rock', 'ice']\n",
    "fighting_type['Not Very Effective'] = ['psychic', 'bug', 'poison', 'flying']\n",
    "fighting_type['No Effect'] = ['ghost']\n",
    "fighting_type['Weak To'] = ['psychic', 'flying']\n",
    "fighting_type['Resists'] = ['dark', 'bug', 'rock']\n",
    "fighting_type['Immune To'] = []\n",
    "fire_type['Super Effective'] = ['grass', 'ice', 'steel', 'bug']\n",
    "fire_type['Not Very Effective'] = ['fire', 'water', 'dragon', 'rock']\n",
    "fire_type['No Effect'] = []\n",
    "fire_type['Weak To'] = ['water', 'rock', 'ground']\n",
    "fire_type['Resists'] = ['grass', 'fire', 'steel', 'ice', 'bug']\n",
    "fire_type['Immune To'] = []\n",
    "flying_type['Super Effective'] = ['grass', 'bug', 'fighting']\n",
    "flying_type['Not Very Effective'] = ['steel', 'rock', 'electric']\n",
    "flying_type['No Effect'] = []\n",
    "flying_type['Weak To'] = ['electric', 'rock', 'ice']\n",
    "flying_type['Resists'] = ['bug', 'grass', 'fighting']\n",
    "flying_type['Immune To'] = ['ground']\n",
    "ghost_type['Super Effective'] = ['ghost', 'psychic']\n",
    "ghost_type['Not Very Effective'] = ['steel', 'dark']\n",
    "ghost_type['No Effect'] = ['normal']\n",
    "ghost_type['Weak To'] = ['ghost', 'dark']\n",
    "ghost_type['Resists'] = ['poison', 'bug']\n",
    "ghost_type['Immune To'] = ['normal', 'fighting']\n",
    "grass_type['Super Effective'] = ['water', 'rock', 'ground']\n",
    "grass_type['Not Very Effective'] = ['poison', 'steel', 'dragon', 'grass', 'fire', 'bug', 'flying']\n",
    "grass_type['No Effect'] = []\n",
    "grass_type['Weak To'] = ['fire', 'ice', 'bug', 'flying', 'poison']\n",
    "grass_type['Resists'] = ['grass', 'ground', 'water', 'electric']\n",
    "grass_type['Immune To'] = []\n",
    "ground_type['Super Effective'] = ['electric', 'rock', 'steel', 'fire', 'poison']\n",
    "ground_type['Not Very Effective'] = ['grass', 'bug']\n",
    "ground_type['No Effect'] = ['flying']\n",
    "ground_type['Weak To'] = ['grass', 'water', 'ice']\n",
    "ground_type['Resists'] = ['poison', 'rock']\n",
    "ground_type['Immune To'] = ['electric']\n",
    "ice_type['Super Effective'] = ['dragon', 'flying', 'grass', 'ground']\n",
    "ice_type['Not Very Effective'] = ['water', 'fire', 'ice', 'steel']\n",
    "ice_type['No Effect'] = []\n",
    "ice_type['Weak To'] = ['fire', 'fighting', 'steel', 'rock']\n",
    "ice_type['Resists'] = ['ice']\n",
    "ice_type['Immune To'] = []\n",
    "normal_type['Super Effective'] = []\n",
    "normal_type['Not Very Effective'] = ['steel', 'rock']\n",
    "normal_type['No Effect'] = ['ghost']\n",
    "normal_type['Weak To'] = ['fighting']\n",
    "normal_type['Resists'] = []\n",
    "normal_type['Immune To'] = ['ghost']\n",
    "poison_type['Super Effective'] = ['grass']\n",
    "poison_type['Not Very Effective'] = ['ground', 'ghost', 'poison', 'rock']\n",
    "poison_type['No Effect'] = ['steel']\n",
    "poison_type['Weak To'] = ['ground', 'psychic']\n",
    "poison_type['Resists'] = ['grass', 'poison', 'bug', 'fighting']\n",
    "poison_type['Immune To'] = []\n",
    "psychic_type['Super Effective'] = ['fighting', 'poison']\n",
    "psychic_type['Not Very Effective'] = ['psychic', 'steel']\n",
    "psychic_type['No Effect'] = ['dark']\n",
    "psychic_type['Weak To'] = ['dark', 'ghost', 'bug']\n",
    "psychic_type['Resists'] = ['psychic', 'fighting']\n",
    "psychic_type['Immune To'] = []\n",
    "rock_type['Super Effective'] = ['bug', 'flying', 'fire', 'ice']\n",
    "rock_type['Not Very Effective'] = ['ground', 'steel', 'fighting']\n",
    "rock_type['No Effect'] = []\n",
    "rock_type['Weak To'] = ['fighting', 'grass', 'water', 'ground', 'steel']\n",
    "rock_type['Resists'] = ['normal', 'fire', 'flying', 'poison']\n",
    "rock_type['Immune To'] = []\n",
    "water_type['Super Effective'] = ['rock', 'ground', 'fire']\n",
    "water_type['Not Very Effective'] = ['water', 'grass', 'dragon']\n",
    "water_type['No Effect'] = []\n",
    "water_type['Weak To'] = ['grass', 'electric']\n",
    "water_type['Resists'] = ['water', 'fire', 'ice', 'steel']\n",
    "water_type['Immune To'] = []\n",
    "steel_type['Super Effective'] = ['rock', 'ice']\n",
    "steel_type['Not Very Effective'] = ['water', 'steel', 'fire', 'electric']\n",
    "steel_type['No Effect'] = []\n",
    "steel_type['Weak To'] = ['fighting', 'fire', 'ground']\n",
    "steel_type['Resists'] = ['normal', 'rock', 'steel', 'dragon', 'dark', 'ghost', 'psychic', 'grass', 'bug', 'flying', 'ice']\n",
    "steel_type['Immune To'] = ['poison']"
   ]
  },
  {
   "cell_type": "code",
   "execution_count": 3,
   "id": "8ee7ba84-2dda-4085-979b-7b8187608d29",
   "metadata": {},
   "outputs": [
    {
     "data": {
      "text/plain": [
       "{'Super Effective': ['rock', 'ice'],\n",
       " 'Not Very Effective': ['water', 'steel', 'fire', 'electric'],\n",
       " 'No Effect': [],\n",
       " 'Weak To': ['fighting', 'fire', 'ground'],\n",
       " 'Resists': ['normal',\n",
       "  'rock',\n",
       "  'steel',\n",
       "  'dragon',\n",
       "  'dark',\n",
       "  'ghost',\n",
       "  'psychic',\n",
       "  'grass',\n",
       "  'bug',\n",
       "  'flying',\n",
       "  'ice'],\n",
       " 'Immune To': ['poison']}"
      ]
     },
     "execution_count": 3,
     "metadata": {},
     "output_type": "execute_result"
    }
   ],
   "source": [
    "steel_type"
   ]
  },
  {
   "cell_type": "code",
   "execution_count": 48,
   "id": "50823e6b-3b42-48d2-be72-ee8474694467",
   "metadata": {},
   "outputs": [
    {
     "data": {
      "text/plain": [
       "['Grass', 'Poison']"
      ]
     },
     "execution_count": 48,
     "metadata": {},
     "output_type": "execute_result"
    }
   ],
   "source": [
    "def matchup(pokemon, opponent):\n",
    "    pokemon_type = pokedex_df[pokedex_df['Pokémon']==pokemon.upper()]\n",
    "    pokemon_type = pokemon_type['Type'].item().split('|')\n",
    "    opponent_type = pokedex_df[pokedex_df['Pokémon']==opponent.upper()]\n",
    "    opponent_type = opponent_type['Type'].item().split('|')\n",
    "    for i in pokemon_type:\n",
    "        if \n",
    "        type_matchup = \n",
    "    return type_matchup"
   ]
  },
  {
   "cell_type": "code",
   "execution_count": null,
   "id": "894cd914-d5fc-4a4b-ba6d-0324e9a4d34f",
   "metadata": {},
   "outputs": [],
   "source": [
    "matchup('bulbasaur')"
   ]
  }
 ],
 "metadata": {
  "kernelspec": {
   "display_name": "Python 3 (ipykernel)",
   "language": "python",
   "name": "python3"
  },
  "language_info": {
   "codemirror_mode": {
    "name": "ipython",
    "version": 3
   },
   "file_extension": ".py",
   "mimetype": "text/x-python",
   "name": "python",
   "nbconvert_exporter": "python",
   "pygments_lexer": "ipython3",
   "version": "3.12.4"
  }
 },
 "nbformat": 4,
 "nbformat_minor": 5
}
