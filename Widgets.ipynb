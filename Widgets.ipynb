{
 "cells": [
  {
   "cell_type": "markdown",
   "id": "0a04a697-b617-4490-9e5e-67e599165dfa",
   "metadata": {},
   "source": [
    "### *This notebook consolidates all other Pokemon data notebooks and serves as the final end-user tool to query a variety of Pokemon data. To use the tool, select 'Run', then 'Run All Cells' in the menu bar above, then scroll to the bottom and select whichever info wished to be displayed. Rerun the last cell to query different info."
   ]
  },
  {
   "cell_type": "markdown",
   "id": "e8fbda09-8b12-49ae-b8d9-c212fdec1b43",
   "metadata": {
    "jp-MarkdownHeadingCollapsed": true
   },
   "source": [
    "#### Run these commands in the terminal to ensure ipywidgets is installed"
   ]
  },
  {
   "cell_type": "code",
   "execution_count": 29,
   "id": "2c3de649-e006-4232-9136-d431e2cba5d1",
   "metadata": {},
   "outputs": [],
   "source": [
    "#pip install ipywidgets\n",
    "#jupyter nbextension enable --py widgetsnbextension"
   ]
  },
  {
   "cell_type": "markdown",
   "id": "698761fc-2c39-4c7b-bcfa-3902916a1988",
   "metadata": {},
   "source": [
    "#### Validate ipywidgets extension (as needed)"
   ]
  },
  {
   "cell_type": "code",
   "execution_count": 31,
   "id": "3a86aa4b-800c-4245-a827-e7c91ebfe1c0",
   "metadata": {},
   "outputs": [],
   "source": [
    "#!pip show ipywidgets"
   ]
  },
  {
   "cell_type": "markdown",
   "id": "130ce9aa-a14e-4990-9ee1-42b52b94b654",
   "metadata": {},
   "source": [
    "#### Test widgets library (as needed)"
   ]
  },
  {
   "cell_type": "code",
   "execution_count": 33,
   "id": "946a444b-20eb-40d9-af47-1b1f863a34af",
   "metadata": {},
   "outputs": [],
   "source": [
    "# import ipywidgets as widgets\n",
    "# widgets.IntSlider()"
   ]
  },
  {
   "cell_type": "markdown",
   "id": "3eba8c6b-1866-42e6-92e7-b6d9d6df0db9",
   "metadata": {},
   "source": [
    "### Run National Pokedex and Movesets and Natures notebooks to create widgets from"
   ]
  },
  {
   "cell_type": "code",
   "execution_count": 13,
   "id": "10872826-9b3c-4337-8dcb-7a740fb41f01",
   "metadata": {},
   "outputs": [],
   "source": [
    "%run 'National Pokedex.ipynb'"
   ]
  },
  {
   "cell_type": "code",
   "execution_count": 63,
   "id": "da0f60a5-f560-4249-83f0-60b5cf053138",
   "metadata": {},
   "outputs": [],
   "source": [
    "%run 'Movesets and Natures.ipynb'"
   ]
  },
  {
   "cell_type": "code",
   "execution_count": 16,
   "id": "250236d2-d2d6-4f7c-924f-01cfff7e61a3",
   "metadata": {},
   "outputs": [],
   "source": [
    "%run 'Items and TMs.ipynb'"
   ]
  },
  {
   "cell_type": "code",
   "execution_count": 86,
   "id": "c738745c-9dc2-4b2b-bcf5-cab1016efbfe",
   "metadata": {},
   "outputs": [],
   "source": [
    "%run 'Types.ipynb'"
   ]
  },
  {
   "cell_type": "code",
   "execution_count": 79,
   "id": "23d42599-773c-4b63-89b8-485bec7ad801",
   "metadata": {},
   "outputs": [],
   "source": [
    "import ipywidgets as widgets\n",
    "import matplotlib.pyplot as plt\n",
    "import matplotlib.cm as cm\n",
    "import matplotlib.colors as mcolors\n",
    "import plotly.graph_objects as go\n",
    "from plotly.subplots import make_subplots\n",
    "# Maximize display of all dataframes\n",
    "pd.set_option('display.max_rows', None)\n",
    "pd.set_option('display.max_colwidth', None)"
   ]
  },
  {
   "cell_type": "markdown",
   "id": "05df47e6-45dd-4f42-8e1f-6dc53a047bb4",
   "metadata": {},
   "source": [
    "### Press shift+enter to load widgets"
   ]
  },
  {
   "cell_type": "code",
   "execution_count": 94,
   "id": "0cf633f3-9768-477a-ad02-283510b44c23",
   "metadata": {},
   "outputs": [
    {
     "data": {
      "application/vnd.jupyter.widget-view+json": {
       "model_id": "30c18f4b13c24af39e37d1271529b498",
       "version_major": 2,
       "version_minor": 0
      },
      "text/plain": [
       "Dropdown(description='Which game are you playing?', layout=Layout(width='max-content'), options=('--Select fro…"
      ]
     },
     "metadata": {},
     "output_type": "display_data"
    },
    {
     "data": {
      "application/vnd.jupyter.widget-view+json": {
       "model_id": "325ef597bd25418d90197318c84b242e",
       "version_major": 2,
       "version_minor": 0
      },
      "text/plain": [
       "Dropdown(description='What do you want to view?', layout=Layout(width='max-content'), options=('--Select from …"
      ]
     },
     "metadata": {},
     "output_type": "display_data"
    },
    {
     "data": {
      "application/vnd.jupyter.widget-view+json": {
       "model_id": "d2540b9a47634acaac06df4349bcd922",
       "version_major": 2,
       "version_minor": 0
      },
      "text/plain": [
       "Output()"
      ]
     },
     "metadata": {},
     "output_type": "display_data"
    }
   ],
   "source": [
    "regional_pokedex_dict={\n",
    "    'FireRed/LeafGreen': 'Kanto Pokedex',\n",
    "    'Ruby/Sapphire/Emerald': 'Hoenn Pokedex',\n",
    "    'Diamond/Pearl/Platinum': 'Sinnoh Pokedex',\n",
    "    'HeartGold/SoulSilver': 'Johto Pokedex',\n",
    "    'Black/White': 'Unova Pokedex (Black/White)',\n",
    "    'Black2/White2': 'Unova Pokedex (Black/White 2)'\n",
    "}\n",
    "pokemon_movesets_dict={\n",
    "    'FireRed/LeafGreen': gen3_movesets,\n",
    "    'Ruby/Sapphire/Emerald': gen3_movesets,\n",
    "    'Diamond/Pearl/Platinum': gen4_movesets,\n",
    "    'HeartGold/SoulSilver': gen4_movesets,\n",
    "    'Black/White': gen5_movesets,\n",
    "    'Black2/White2': gen5_movesets\n",
    "}\n",
    "move_type_dict={\n",
    "    'FireRed/LeafGreen': gen3_moves,\n",
    "    'Ruby/Sapphire/Emerald': gen3_moves,\n",
    "    'Diamond/Pearl/Platinum': gen4_moves,\n",
    "    'HeartGold/SoulSilver': gen4_moves,\n",
    "    'Black/White': gen5_moves,\n",
    "    'Black2/White2': gen5_moves\n",
    "}\n",
    "# Select game first\n",
    "game_dropdown=widgets.Dropdown(\n",
    "    options=['--Select from dropdown--','FireRed/LeafGreen','Ruby/Sapphire/Emerald','Diamond/Pearl/Platinum',\n",
    "             'HeartGold/SoulSilver','Black/White','Black2/White2'],\n",
    "    description='Which game are you playing?',\n",
    "    layout=widgets.Layout(width='max-content'),  # Expands the dropdown width\n",
    "    style={'description_width': 'max-content'}   # Ensures full description is visible\n",
    ")\n",
    "# Initial dropdown options \n",
    "action_dropdown=widgets.Dropdown(\n",
    "    options=['--Select from dropdown--','View Regional Pokedex','View Pokemon Stats','View National Pokedex',\n",
    "             'Select Pokemon Moveset','View Pokemon Natures','View Moves by Type','View Type Matchup'],\n",
    "    description='What do you want to view?',\n",
    "    layout=widgets.Layout(width='max-content'),  # Expands the dropdown width\n",
    "    style={'description_width': 'max-content'}   # Ensures full description is visible\n",
    ")\n",
    "# Individual Pokemon stats\n",
    "pokemon_stats_input=widgets.Text(\n",
    "    description='Enter Pokemon whose stats you want to see:',\n",
    "    layout=widgets.Layout(width='max-content'),  # Expands the dropdown width\n",
    "    style={'description_width': 'max-content'},  # Ensures full description is visible\n",
    ")    \n",
    "# Individual Pokemon moveset\n",
    "pokemon_moveset_input=widgets.Text(\n",
    "    description='Enter Pokemon whose moveset you want to see:',\n",
    "    layout=widgets.Layout(width='max-content'),  # Expands the dropdown width\n",
    "    style={'description_width': 'max-content'}   # Ensures full description is visible\n",
    ")\n",
    "# Moves by type\n",
    "type_dropdown=widgets.Dropdown(\n",
    "    options=['--Select from dropdown--','Bug', 'Dark', 'Dragon', 'Electric', 'Fighting', 'Fire', 'Flying', 'Ghost', 'Grass', 'Ground', \n",
    "             'Ice', 'Normal', 'Poison', 'Psychic', 'Rock', 'Water'],\n",
    "    description='Select Type:',\n",
    "    layout=widgets.Layout(width='max-content'),  # Expands the dropdown width\n",
    "    style={'description_width': 'max-content'}   # Ensures full description is visible\n",
    ") \n",
    "# Type input\n",
    "type_input=widgets.Text(\n",
    "    description='Enter type:',\n",
    "    layout=widgets.Layout(width='max-content'),  # Expands the dropdown width\n",
    "    style={'description_width': 'max-content'}   # Ensures full description is visible\n",
    ")\n",
    "# Type matchup\n",
    "type_matchup=widgets.Text(\n",
    "    description='Enter type to see matchup',\n",
    "    layout=widgets.Layout(width='max-content'),  # Expands the dropdown width\n",
    "    style={'description_width': 'max-content'}   # Ensures full description is visible\n",
    ")\n",
    "output=widgets.Output()\n",
    "\n",
    "def update_action(change):\n",
    "    action=action_dropdown.value  \n",
    "    with output:\n",
    "        output.clear_output()\n",
    "        if action=='View Pokemon Stats':\n",
    "            display(pokemon_stats_input)\n",
    "        elif action=='Select Pokemon Moveset':\n",
    "            display(pokemon_moveset_input)\n",
    "        elif action=='View Moves by Type':\n",
    "            display(type_dropdown)\n",
    "        elif action=='View Type Matchup':\n",
    "            display(type_input)\n",
    "            display(type_matchup)\n",
    "        elif action == 'View Regional Pokedex' or action == 'View National Pokedex' or action == 'View Pokemon Natures':\n",
    "            display_results(None)  # Trigger display_results for these actions\n",
    "        else:\n",
    "            output.clear_output()\n",
    "            \n",
    "def display_results(change):\n",
    "    with output:\n",
    "        output.clear_output()\n",
    "        game=game_dropdown.value\n",
    "        action=action_dropdown.value\n",
    "        pokemon_stats=pokemon_stats_input.value.strip()\n",
    "        pokemon_moveset=pokemon_moveset_input.value.strip()\n",
    "        type_input_value=type_input.value.strip()\n",
    "        type_matchup_value=type_matchup.value.strip()\n",
    "        move_type=type_dropdown.value.lower()\n",
    "        regional_pokedex=regional_pokedex_dict[game] # Regional Pokedex for whichever game is selected\n",
    "                \n",
    "        if action=='View Regional Pokedex':\n",
    "            filtered_pokedex=pokedex_df[pokedex_df[regional_pokedex]==True] # Filter national pokedex to include only selected region pokedex\n",
    "            display(filtered_pokedex)\n",
    "        elif action=='View Type Matchup':\n",
    "    # Add individual pokemon type and move matchups also \n",
    "            type_input_dict = globals()[f'{type_input_value.lower()}_type']  \n",
    "            type_matchup_dict=globals()[f'{type_matchup_value.lower()}_type']\n",
    "            if type_matchup_value in type_input_dict['Super Effective']:\n",
    "                print(f'{type_input_value} is super effective against {type_matchup_value}.')\n",
    "            elif type_matchup_value in type_input_dict['Not Very Effective']:\n",
    "                print(f'{type_input_value} is not very effective against {type_matchup_value}.')\n",
    "            elif type_matchup_value in type_input_dict['No Effect']:\n",
    "                print(f'{type_input_value} has no effect against {type_matchup_value}.')\n",
    "            else:\n",
    "                print(f'{type_input_value} has regular effect against {type_matchup_value}.')\n",
    "            if type_matchup_value in type_input_dict['Weak To']:\n",
    "                print(f'{type_input_value} is weak against {type_matchup_value}.')\n",
    "            elif type_matchup_value in type_input_dict['Resists']:\n",
    "                print(f'{type_input_value} resists {type_matchup_value}.')\n",
    "            elif type_matchup_value in type_input_dict['Immune To']:\n",
    "                print(f'{type_input_value} is not affected by {type_matchup_value}.')\n",
    "            else:\n",
    "                print(f'{type_input_value} is affected regularly by {type_matchup_value}.')\n",
    "            print('')\n",
    "            print(f'{type_input_value} type attributes:')\n",
    "            type_input_df = pd.DataFrame(dict([(k, pd.Series(v)) for k, v in type_input_dict.items()])).fillna('')\n",
    "            display(type_input_df)\n",
    "        elif action=='View Pokemon Stats':\n",
    "            filtered_pokedex=pokedex_df[pokedex_df[regional_pokedex]==True]\n",
    "            if pokemon_stats.upper() in filtered_pokedex['Pokémon'].values:\n",
    "                row = filtered_pokedex[filtered_pokedex['Pokémon'] == pokemon_stats.upper()]\n",
    "                display(row)  # Display pokedex entry for selected pokemon        \n",
    "            # Create and display base stat visuals for selected pokemon\n",
    "                # Specify Pokemon stats to display\n",
    "                columns_to_plot = ['HP', 'Attack', 'Defense', 'Sp. Atk', 'Sp. Def', 'Speed']\n",
    "                values = row[columns_to_plot].iloc[0].astype('int')  # Extract the values from the row                \n",
    "                # Specify color shading by stat value\n",
    "                norm = mcolors.Normalize(vmin=min(values), vmax=max(values))\n",
    "                cmap = plt.colormaps['Greens']\n",
    "                colors = [mcolors.rgb2hex(cmap(norm(v))[:3]) for v in values]                \n",
    "                # Create subplot layout\n",
    "                fig = make_subplots(rows=1, cols=2, specs=[[{'type':'bar'}, {'type':'domain'}]])                \n",
    "                # Add Bar Chart\n",
    "                fig.add_trace(go.Bar(\n",
    "                        x=columns_to_plot,\n",
    "                        y=values.tolist(),\n",
    "                        marker=dict(color=colors)),\n",
    "                    row=1, col=1)                \n",
    "                # Add Pie Chart\n",
    "                fig.add_trace(go.Pie(\n",
    "                        labels=columns_to_plot,\n",
    "                        values=values.tolist(),\n",
    "                        marker=dict(colors=colors)),\n",
    "                    row=1, col=2)              \n",
    "                # Update layout\n",
    "                fig.update_layout(\n",
    "                    title_text=f'{pokemon_stats} Base Stat Distribution',\n",
    "                    title_x = 0.5,\n",
    "                    showlegend=False,\n",
    "                    height=500,\n",
    "                    width=1100)\n",
    "                fig.show()\n",
    "            else:\n",
    "                print(f'{pokemon_stats} does not exist in {game} regional pokedex.')\n",
    "            # elif pokedex_df[pokedex_df[regional_pokedex_dict[game]]==True]:\n",
    "            #     display(pokedex_df[pokedex_df[pokemon_stats.upper()]])\n",
    "            # else: \n",
    "            #     if pokemon_stats.lower() in pokemon_movesets_dict[game]:\n",
    "            #         print(f'{pokemon_stats} does not exist in standard {game} regional pokedex. However, here is its stats in this generation.')\n",
    "            #         display(pokedex_df[pokedex_df[pokemon_stats.upper()]])\n",
    "        elif action=='View National Pokedex':\n",
    "            display(pokedex_df)            \n",
    "        elif action=='Select Pokemon Moveset':\n",
    "            #if pokemon_moveset in pokemon_movesets_dict[game]:\n",
    "            filtered_pokedex=pokedex_df[pokedex_df[regional_pokedex]==True]\n",
    "            if pokemon_moveset.upper() in filtered_pokedex['Pokémon'].values:\n",
    "                if pokemon_moveset in pokemon_movesets_dict[game]:\n",
    "                    display(pokemon_movesets_dict[game][pokemon_moveset])\n",
    "                else:\n",
    "                    print(f\"{pokemon_moveset} does not have a moveset in {game}.\")\n",
    "            #if pokedex_df[pokedex_df[regional_pokedex_dict[game]]==True]:\n",
    "                #display(pokemon_movesets_dict[game][pokemon_moveset])\n",
    "            else:\n",
    "                print(f'{pokemon_moveset} does not exist in {game} regional pokedex.')\n",
    "        elif action=='View Pokemon Natures':\n",
    "            display(natures)\n",
    "        elif action=='View Moves by Type':\n",
    "            display(move_type_dict[game][move_type])\n",
    "            \n",
    "action_dropdown.observe(update_action, names='value')\n",
    "pokemon_stats_input.on_submit(display_results)\n",
    "pokemon_moveset_input.on_submit(display_results)\n",
    "type_input.on_submit(display_results)\n",
    "type_matchup.on_submit(display_results)\n",
    "type_dropdown.observe(display_results, names='value')\n",
    "display(game_dropdown, action_dropdown, output)"
   ]
  },
  {
   "cell_type": "code",
   "execution_count": null,
   "id": "bad92a21-1cae-44cb-bfd1-02d5e6f84cf0",
   "metadata": {},
   "outputs": [],
   "source": []
  }
 ],
 "metadata": {
  "kernelspec": {
   "display_name": "Python 3 (ipykernel)",
   "language": "python",
   "name": "python3"
  },
  "language_info": {
   "codemirror_mode": {
    "name": "ipython",
    "version": 3
   },
   "file_extension": ".py",
   "mimetype": "text/x-python",
   "name": "python",
   "nbconvert_exporter": "python",
   "pygments_lexer": "ipython3",
   "version": "3.12.4"
  }
 },
 "nbformat": 4,
 "nbformat_minor": 5
}
